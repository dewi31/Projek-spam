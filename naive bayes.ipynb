{
 "cells": [
  {
   "cell_type": "code",
   "execution_count": 12,
   "id": "53d332df",
   "metadata": {},
   "outputs": [],
   "source": [
    "import pandas as pd\n",
    "data = pd.read_csv(\"dataset_sms_spam_v1.csv\", sep=\",\")"
   ]
  },
  {
   "cell_type": "code",
   "execution_count": 13,
   "id": "dc484c18",
   "metadata": {},
   "outputs": [
    {
     "name": "stdout",
     "output_type": "stream",
     "text": [
      "                                                   Teks  label\n",
      "241   Dana Tunai (KTA) bunga 0,99% hingga 300 jt. Sy...      1\n",
      "823      Jadi kapan kita meet upnyaa nih temaan temaan?      0\n",
      "251   Ass, mengenai rumah dan tanah yg kemarin, sy s...      1\n",
      "791   Hehe sudah sep ku jebol pake solder tp jd jele...      0\n",
      "1061  Soalnya bapa mau liat database secara keseluru...      0\n",
      "824   Jadi kitanya harus cari kesibukan jg ya? Biar ...      0\n",
      "775          Geng hari ini mau jam brpa ? Respon yah...      0\n",
      "65    Dptkn kesempatan raih hadiah utama mobil Alpha...      2\n",
      "903                  Maafin ya guys gak hari ini huhuhu      0\n",
      "33    Beli paket Turbo mulai 50rb utk pembelian pert...      2\n"
     ]
    }
   ],
   "source": [
    "print(data.sample(10))"
   ]
  },
  {
   "cell_type": "code",
   "execution_count": 14,
   "id": "d94e79cd",
   "metadata": {},
   "outputs": [],
   "source": [
    "X = data.iloc[:,0]\n",
    "y = data.iloc[:,-1]"
   ]
  },
  {
   "cell_type": "code",
   "execution_count": 15,
   "id": "174ac2dd",
   "metadata": {},
   "outputs": [],
   "source": [
    "from sklearn.model_selection import train_test_split\n",
    "X_train, X_test, y_train, y_test = train_test_split(X,y) "
   ]
  },
  {
   "cell_type": "code",
   "execution_count": 16,
   "id": "06223dbc",
   "metadata": {},
   "outputs": [],
   "source": [
    "from sklearn.feature_extraction.text import TfidfVectorizer, CountVectorizer\n",
    "vectorizer = TfidfVectorizer()\n",
    "X_train = vectorizer.fit_transform(X_train)"
   ]
  },
  {
   "cell_type": "code",
   "execution_count": 17,
   "id": "de8d796a",
   "metadata": {},
   "outputs": [
    {
     "name": "stdout",
     "output_type": "stream",
     "text": [
      "  (0, 926)\t0.28728109222572346\n",
      "  (0, 2487)\t0.296065076920924\n",
      "  (0, 1662)\t0.32067590484484115\n",
      "  (0, 3512)\t0.3402106179456347\n",
      "  (0, 654)\t0.2798543389872809\n",
      "  (0, 2775)\t0.38938197054670604\n",
      "  (0, 2898)\t0.3402106179456347\n",
      "  (0, 1419)\t0.38706000129650386\n",
      "  (0, 3753)\t0.3402106179456347\n",
      "  (1, 1139)\t0.12161306103273395\n",
      "  (1, 974)\t0.1569218719212992\n",
      "  (1, 3049)\t0.2942668199754912\n",
      "  (1, 1588)\t0.2232261260051538\n",
      "  (1, 4047)\t0.11967446716701251\n",
      "  (1, 4021)\t0.256082920684273\n",
      "  (1, 2239)\t0.1943411212617818\n",
      "  (1, 2926)\t0.27737017536746583\n",
      "  (1, 1823)\t0.1146261077621119\n",
      "  (1, 3008)\t0.2942668199754912\n",
      "  (1, 1817)\t0.3574536020040065\n",
      "  (1, 1200)\t0.14002522731327388\n",
      "  (1, 218)\t0.2942668199754912\n",
      "  (1, 3242)\t0.14493351178595257\n",
      "  (1, 1093)\t0.2942668199754912\n",
      "  (1, 1671)\t0.27603307425280044\n",
      "  :\t:\n",
      "  (854, 2824)\t0.42291134856433193\n",
      "  (854, 2383)\t0.3478832513146413\n",
      "  (854, 2423)\t0.3813986958285461\n",
      "  (854, 1310)\t0.3986280034084377\n",
      "  (854, 629)\t0.1990619479513896\n",
      "  (854, 2441)\t0.19426818232574097\n",
      "  (854, 2564)\t0.28808126158774394\n",
      "  (854, 2015)\t0.23778851238085846\n",
      "  (855, 2720)\t0.5212468236924181\n",
      "  (855, 737)\t0.4536101250547792\n",
      "  (855, 1137)\t0.47008163634279754\n",
      "  (855, 1048)\t0.4189164489931769\n",
      "  (855, 2564)\t0.3550660039690897\n",
      "  (856, 1243)\t0.3422753377677365\n",
      "  (856, 1642)\t0.3422753377677365\n",
      "  (856, 2991)\t0.3422753377677365\n",
      "  (856, 2173)\t0.3226220695506981\n",
      "  (856, 1649)\t0.3226220695506981\n",
      "  (856, 1049)\t0.3226220695506981\n",
      "  (856, 3579)\t0.25964462348613043\n",
      "  (856, 2675)\t0.3226220695506981\n",
      "  (856, 2851)\t0.2161205652586498\n",
      "  (856, 207)\t0.2750803699097649\n",
      "  (856, 2441)\t0.15722729585950676\n",
      "  (856, 2046)\t0.13300270191723487\n"
     ]
    }
   ],
   "source": [
    "print(X_train)"
   ]
  },
  {
   "cell_type": "code",
   "execution_count": 18,
   "id": "b301d52b",
   "metadata": {},
   "outputs": [
    {
     "data": {
      "text/plain": [
       "MultinomialNB()"
      ]
     },
     "execution_count": 18,
     "metadata": {},
     "output_type": "execute_result"
    }
   ],
   "source": [
    "# Naive Bayes\n",
    "from sklearn.naive_bayes import MultinomialNB\n",
    "classifier = MultinomialNB()\n",
    "classifier.fit(X_train,y_train)"
   ]
  },
  {
   "cell_type": "code",
   "execution_count": 19,
   "id": "09633b69",
   "metadata": {},
   "outputs": [
    {
     "name": "stdout",
     "output_type": "stream",
     "text": [
      "[0 2]\n"
     ]
    }
   ],
   "source": [
    "# Menguji dengan data sembarang\n",
    "test = ['Bisa wan buat mahasiswa yang belum lulus 8 smt','Plg Yth, sisa kuota Flash Anda 478KB. Download MyTelkomsel apps di http://tsel.me/tsel utk cek kuota&beli paket Flash atau hub *363#']\n",
    "test = vectorizer.transform(test)\n",
    "prediksi = classifier.predict(test)\n",
    "print(prediksi)"
   ]
  },
  {
   "cell_type": "code",
   "execution_count": 20,
   "id": "02a56602",
   "metadata": {},
   "outputs": [],
   "source": [
    "X_test = vectorizer.transform(X_test)\n",
    "y_pred = classifier.predict(X_test)"
   ]
  },
  {
   "cell_type": "code",
   "execution_count": 21,
   "id": "54a36666",
   "metadata": {},
   "outputs": [
    {
     "name": "stdout",
     "output_type": "stream",
     "text": [
      "[[130   1   3]\n",
      " [ 10  80   6]\n",
      " [  3   4  49]]\n"
     ]
    }
   ],
   "source": [
    "# Confusiion matrix\n",
    "from sklearn.metrics import confusion_matrix\n",
    "d = confusion_matrix(y_test, y_pred)\n",
    "print(d)"
   ]
  },
  {
   "cell_type": "code",
   "execution_count": 22,
   "id": "347a35be",
   "metadata": {},
   "outputs": [
    {
     "name": "stdout",
     "output_type": "stream",
     "text": [
      "Hasil Akurasi =  90.55944055944056 %\n"
     ]
    }
   ],
   "source": [
    "# Akurasi\n",
    "from sklearn import metrics\n",
    "print(\"Hasil Akurasi = \",metrics.accuracy_score(y_test,y_pred)*100,\"%\")"
   ]
  }
 ],
 "metadata": {
  "kernelspec": {
   "display_name": "Python 3 (ipykernel)",
   "language": "python",
   "name": "python3"
  },
  "language_info": {
   "codemirror_mode": {
    "name": "ipython",
    "version": 3
   },
   "file_extension": ".py",
   "mimetype": "text/x-python",
   "name": "python",
   "nbconvert_exporter": "python",
   "pygments_lexer": "ipython3",
   "version": "3.10.1"
  }
 },
 "nbformat": 4,
 "nbformat_minor": 5
}
