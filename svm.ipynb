{
 "cells": [
  {
   "cell_type": "code",
   "execution_count": 14,
   "metadata": {},
   "outputs": [
    {
     "name": "stdout",
     "output_type": "stream",
     "text": [
      "                                                   Teks  label\n",
      "408   Penawaran terbatas software SMS gateway utk ik...      1\n",
      "1114  Wah iya dy?haha sabar bgt anaknya teh jd we ak...      0\n",
      "1068           Sundae min sirup kiwi pake cochochips :*      0\n",
      "141   Nikmati Discount 20% di Bakmi GM setiap hari h...      2\n",
      "95    Isi ulang Rp50000.0 berhasil. Kode transaksi 9...      2\n",
      "251   Ass, mengenai rumah dan tanah yg kemarin, sy s...      1\n",
      "238   Yuks internetan seru-seruan dg Flash Volume Ul...      2\n",
      "589   Ada nama1 . Tpi gatau msh berfungsi atau engga...      0\n",
      "752   nama1 bisa lembar yg kamrin bisa minta ke pak ...      0\n",
      "564   WASSALAMU ALAIKUM WR WB UANGNYA DIKIRIM SAJA K...      1\n"
     ]
    }
   ],
   "source": [
    "import pandas as pd\n",
    "data = pd.read_csv(\"dataset_sms_spam_v1.csv\", sep=\",\")\n",
    "print(data.sample(10))"
   ]
  },
  {
   "cell_type": "code",
   "execution_count": 15,
   "metadata": {},
   "outputs": [],
   "source": [
    "X = data.iloc[:,0]\n",
    "y = data.iloc[:,-1]"
   ]
  },
  {
   "cell_type": "code",
   "execution_count": 16,
   "metadata": {},
   "outputs": [],
   "source": [
    "from sklearn.model_selection import train_test_split\n",
    "X_train, X_test, y_train, y_test = train_test_split(X,y) "
   ]
  },
  {
   "cell_type": "code",
   "execution_count": 17,
   "metadata": {},
   "outputs": [],
   "source": [
    "# Ekstraksi Fitur\n",
    "from sklearn.feature_extraction.text import TfidfVectorizer, CountVectorizer\n",
    "vectorizer = TfidfVectorizer()\n",
    "X_train = vectorizer.fit_transform(X_train)"
   ]
  },
  {
   "cell_type": "code",
   "execution_count": 18,
   "metadata": {},
   "outputs": [
    {
     "name": "stdout",
     "output_type": "stream",
     "text": [
      "  (0, 1850)\t0.12772792666545454\n",
      "  (0, 1583)\t0.31282746695574953\n",
      "  (0, 1238)\t0.16091979185487834\n",
      "  (0, 998)\t0.28024998145319774\n",
      "  (0, 742)\t0.2562414954933687\n",
      "  (0, 673)\t0.26119337406641785\n",
      "  (0, 785)\t0.17527253906357684\n",
      "  (0, 208)\t0.40025576710504734\n",
      "  (0, 1294)\t0.10806486729305773\n",
      "  (0, 712)\t0.2397529775957443\n",
      "  (0, 1905)\t0.18350702205691719\n",
      "  (0, 3438)\t0.22137090268190052\n",
      "  (0, 1697)\t0.27300499557123226\n",
      "  (0, 3668)\t0.19475066835008448\n",
      "  (0, 1884)\t0.20620075440464064\n",
      "  (0, 2267)\t0.3869945547148602\n",
      "  (1, 1974)\t0.2103166405227463\n",
      "  (1, 1340)\t0.28098384509036956\n",
      "  (1, 1235)\t0.25941925306320857\n",
      "  (1, 2443)\t0.23460573737820378\n",
      "  (1, 4094)\t0.2981006247325881\n",
      "  (1, 3444)\t0.2688392966626408\n",
      "  (1, 2579)\t0.2981006247325881\n",
      "  (1, 2351)\t0.2981006247325881\n",
      "  (1, 1867)\t0.261788423935868\n",
      "  :\t:\n",
      "  (854, 2303)\t0.1760073729758055\n",
      "  (854, 3547)\t0.1634324294769127\n",
      "  (854, 1001)\t0.180148665738126\n",
      "  (854, 2026)\t0.24915941288061133\n",
      "  (854, 4133)\t0.10271566908929315\n",
      "  (854, 626)\t0.10026133377219788\n",
      "  (855, 2675)\t0.3557176175070818\n",
      "  (855, 1650)\t0.3557176175070818\n",
      "  (855, 1384)\t0.3557176175070818\n",
      "  (855, 3179)\t0.3352925007224873\n",
      "  (855, 3492)\t0.28588368196620895\n",
      "  (855, 2135)\t0.3208006497366454\n",
      "  (855, 3887)\t0.23492475517509462\n",
      "  (855, 3970)\t0.2509667141957726\n",
      "  (855, 4114)\t0.18273210460888828\n",
      "  (855, 1573)\t0.19776855047986677\n",
      "  (855, 2073)\t0.13434927928695817\n",
      "  (855, 680)\t0.33853249411478914\n",
      "  (856, 3426)\t0.41096524526019534\n",
      "  (856, 824)\t0.41096524526019534\n",
      "  (856, 4067)\t0.41096524526019534\n",
      "  (856, 3420)\t0.41096524526019534\n",
      "  (856, 225)\t0.31729859062953225\n",
      "  (856, 736)\t0.2741190504376062\n",
      "  (856, 4133)\t0.3855004790199453\n"
     ]
    }
   ],
   "source": [
    "print(X_train)"
   ]
  },
  {
   "cell_type": "code",
   "execution_count": 19,
   "metadata": {},
   "outputs": [
    {
     "data": {
      "text/plain": [
       "SVC()"
      ]
     },
     "execution_count": 19,
     "metadata": {},
     "output_type": "execute_result"
    }
   ],
   "source": [
    "# SVM\n",
    "from sklearn.svm import SVC\n",
    "classifier = SVC(kernel='rbf')\n",
    "classifier.fit(X_train,y_train)"
   ]
  },
  {
   "cell_type": "code",
   "execution_count": 20,
   "metadata": {},
   "outputs": [
    {
     "name": "stdout",
     "output_type": "stream",
     "text": [
      "[0 2]\n"
     ]
    }
   ],
   "source": [
    "test = ['Bisa wan buat mahasiswa yang belum lulus 8 smt','Plg Yth, sisa kuota Flash Anda 478KB. Download MyTelkomsel apps di http://tsel.me/tsel utk cek kuota&beli paket Flash atau hub *363#']\n",
    "test = vectorizer.transform(test)\n",
    "prediksi = classifier.predict(test)\n",
    "print(prediksi)"
   ]
  },
  {
   "cell_type": "code",
   "execution_count": 21,
   "metadata": {},
   "outputs": [],
   "source": [
    "X_test = vectorizer.transform(X_test)\n",
    "y_pred = classifier.predict(X_test)"
   ]
  },
  {
   "cell_type": "code",
   "execution_count": 22,
   "metadata": {},
   "outputs": [
    {
     "name": "stdout",
     "output_type": "stream",
     "text": [
      "[[149   0   1]\n",
      " [  6  77   4]\n",
      " [  6   2  41]]\n"
     ]
    }
   ],
   "source": [
    "# Confusiion matrix\n",
    "from sklearn.metrics import confusion_matrix\n",
    "d = confusion_matrix(y_test, y_pred)\n",
    "print(d)"
   ]
  },
  {
   "cell_type": "code",
   "execution_count": 23,
   "metadata": {},
   "outputs": [
    {
     "name": "stdout",
     "output_type": "stream",
     "text": [
      "Hasil Akurasi =  93.35664335664336 %\n"
     ]
    }
   ],
   "source": [
    "# Akurasi\n",
    "from sklearn import metrics\n",
    "print(\"Hasil Akurasi = \",metrics.accuracy_score(y_test,y_pred)*100, \"%\")"
   ]
  }
 ],
 "metadata": {
  "interpreter": {
   "hash": "4ecec27dca66952505ea73748b0cb3dd80ce48e073421214b69835a2c0b30f7a"
  },
  "kernelspec": {
   "display_name": "Python 3.10.1 64-bit",
   "language": "python",
   "name": "python3"
  },
  "language_info": {
   "codemirror_mode": {
    "name": "ipython",
    "version": 3
   },
   "file_extension": ".py",
   "mimetype": "text/x-python",
   "name": "python",
   "nbconvert_exporter": "python",
   "pygments_lexer": "ipython3",
   "version": "3.10.1"
  },
  "orig_nbformat": 4
 },
 "nbformat": 4,
 "nbformat_minor": 2
}
